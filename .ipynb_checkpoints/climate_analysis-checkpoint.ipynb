{
 "cells": [
  {
   "cell_type": "code",
   "execution_count": 1,
   "metadata": {
    "collapsed": true
   },
   "outputs": [],
   "source": [
    "## Step 3 - Climate Analysis and Exploration\n",
    "\n",
    "#Create a Jupyter Notebook file called `climate_analysis.ipynb` and use it to complete your climate analysis\n",
    "#and data exporation.\n",
    "#Choose a start date and end date for your trip. Make sure that your vacation range is approximately 3-15 days total.\n",
    "#Use SQLAlchemy `create_engine` to connect to your sqlite database.\n",
    "#Use SQLAlchemy `automap_base()` to reflect your tables into classes and save a reference to those classes called\n",
    "#`Station` and `Measurement`.\n"
   ]
  },
  {
   "cell_type": "code",
   "execution_count": 2,
   "metadata": {
    "collapsed": true
   },
   "outputs": [],
   "source": [
    "# All dependency\n",
    "#import os\n",
    "import pandas as pd\n",
    "import numpy as np\n",
    "import json\n",
    "import matplotlib.pyplot as plt\n",
    "import requests as req\n",
    "\n",
    "from sqlalchemy import create_engine\n",
    "from sqlalchemy.ext.declarative import declarative_base\n",
    "from sqlalchemy import Column, Integer, String, Date\n",
    "from sqlalchemy.orm import Session\n",
    "from sqlalchemy.ext.automap import automap_base\n",
    "from sqlalchemy import extract\n",
    "from sqlalchemy import func, desc\n",
    "import pymysql\n",
    "pymysql.install_as_MySQLdb()\n",
    "\n"
   ]
  },
  {
   "cell_type": "code",
   "execution_count": 3,
   "metadata": {
    "collapsed": true
   },
   "outputs": [],
   "source": [
    "Start_date = \"2018-03-21\"\n",
    "End_date = \"2018-03-30\""
   ]
  },
  {
   "cell_type": "code",
   "execution_count": 4,
   "metadata": {
    "collapsed": true
   },
   "outputs": [],
   "source": [
    "# Use a Session to connect to the data base\n",
    "engine = create_engine(\"sqlite:///Hawaii_vacation.sqlite\", echo=False)\n",
    "Base = automap_base()\n",
    "Base.prepare(engine, reflect = True)\n"
   ]
  },
  {
   "cell_type": "code",
   "execution_count": 5,
   "metadata": {},
   "outputs": [
    {
     "data": {
      "text/plain": [
       "['measurment', 'station']"
      ]
     },
     "execution_count": 5,
     "metadata": {},
     "output_type": "execute_result"
    }
   ],
   "source": [
    "Base.classes.keys()"
   ]
  },
  {
   "cell_type": "code",
   "execution_count": 6,
   "metadata": {
    "collapsed": true,
    "scrolled": true
   },
   "outputs": [],
   "source": [
    "# Save a reference to the \n",
    "Stations = Base.classes.station\n",
    "\n",
    "Measurment = Base.classes.measurment   \n",
    "session = Session(bind=engine)\n"
   ]
  },
  {
   "cell_type": "code",
   "execution_count": 7,
   "metadata": {
    "collapsed": true
   },
   "outputs": [],
   "source": [
    "### Precipitation Analysis"
   ]
  },
  {
   "cell_type": "code",
   "execution_count": 8,
   "metadata": {},
   "outputs": [
    {
     "name": "stdout",
     "output_type": "stream",
     "text": [
      "2017-08-23\n"
     ]
    }
   ],
   "source": [
    "last_date = session.query(Measurment.date)[-1][0]\n",
    "print(last_date)\n"
   ]
  },
  {
   "cell_type": "code",
   "execution_count": 9,
   "metadata": {
    "scrolled": true
   },
   "outputs": [
    {
     "data": {
      "text/html": [
       "<div>\n",
       "<style>\n",
       "    .dataframe thead tr:only-child th {\n",
       "        text-align: right;\n",
       "    }\n",
       "\n",
       "    .dataframe thead th {\n",
       "        text-align: left;\n",
       "    }\n",
       "\n",
       "    .dataframe tbody tr th {\n",
       "        vertical-align: top;\n",
       "    }\n",
       "</style>\n",
       "<table border=\"1\" class=\"dataframe\">\n",
       "  <thead>\n",
       "    <tr style=\"text-align: right;\">\n",
       "      <th></th>\n",
       "      <th>prcp</th>\n",
       "    </tr>\n",
       "    <tr>\n",
       "      <th>date</th>\n",
       "      <th></th>\n",
       "    </tr>\n",
       "  </thead>\n",
       "  <tbody>\n",
       "    <tr>\n",
       "      <th>2016-08-23</th>\n",
       "      <td>0.451667</td>\n",
       "    </tr>\n",
       "    <tr>\n",
       "      <th>2016-08-24</th>\n",
       "      <td>1.555000</td>\n",
       "    </tr>\n",
       "    <tr>\n",
       "      <th>2016-08-25</th>\n",
       "      <td>0.077143</td>\n",
       "    </tr>\n",
       "    <tr>\n",
       "      <th>2016-08-26</th>\n",
       "      <td>0.016667</td>\n",
       "    </tr>\n",
       "    <tr>\n",
       "      <th>2016-08-27</th>\n",
       "      <td>0.064000</td>\n",
       "    </tr>\n",
       "  </tbody>\n",
       "</table>\n",
       "</div>"
      ],
      "text/plain": [
       "                prcp\n",
       "date                \n",
       "2016-08-23  0.451667\n",
       "2016-08-24  1.555000\n",
       "2016-08-25  0.077143\n",
       "2016-08-26  0.016667\n",
       "2016-08-27  0.064000"
      ]
     },
     "execution_count": 9,
     "metadata": {},
     "output_type": "execute_result"
    }
   ],
   "source": [
    "#Design a query to retrieve the last 12 months of precipitation data.\n",
    "#Select only the `date` and `prcp` values.\n",
    "#Load the query results into a Pandas DataFrame and set the index to the date column.\n",
    "\n",
    "\n",
    "result = session.query(Measurment.date, func.avg(Measurment.prcp)).\\\n",
    "               filter(Measurment.date.between('2016-08-23', '2017-08-23')).\\\n",
    "               group_by(Measurment.date).distinct()\n",
    "       \n",
    "date_prcp_df = pd.DataFrame(result[:], columns=['date', 'prcp'])\n",
    "date_prcp_df.set_index('date', inplace=True, )\n",
    "\n",
    "date_prcp_df.head()\n"
   ]
  },
  {
   "cell_type": "code",
   "execution_count": 10,
   "metadata": {},
   "outputs": [
    {
     "data": {
      "image/png": "[encoded data removed]",
      "text/plain": [
       "<matplotlib.figure.Figure at 0x227a0c83710>"
      ]
     },
     "metadata": {},
     "output_type": "display_data"
    }
   ],
   "source": [
    "#Plot the results using the DataFrame `plot` method.\n",
    "#<center><img src='images/precip.png' /></center>\n",
    "\n",
    "date_prcp_df.plot( kind='line')\n",
    "plt.show()"
   ]
  },
  {
   "cell_type": "code",
   "execution_count": 11,
   "metadata": {},
   "outputs": [
    {
     "data": {
      "text/html": [
       "<div>\n",
       "<style>\n",
       "    .dataframe thead tr:only-child th {\n",
       "        text-align: right;\n",
       "    }\n",
       "\n",
       "    .dataframe thead th {\n",
       "        text-align: left;\n",
       "    }\n",
       "\n",
       "    .dataframe tbody tr th {\n",
       "        vertical-align: top;\n",
       "    }\n",
       "</style>\n",
       "<table border=\"1\" class=\"dataframe\">\n",
       "  <thead>\n",
       "    <tr style=\"text-align: right;\">\n",
       "      <th></th>\n",
       "      <th>prcp</th>\n",
       "    </tr>\n",
       "  </thead>\n",
       "  <tbody>\n",
       "    <tr>\n",
       "      <th>count</th>\n",
       "      <td>366.000000</td>\n",
       "    </tr>\n",
       "    <tr>\n",
       "      <th>mean</th>\n",
       "      <td>0.170757</td>\n",
       "    </tr>\n",
       "    <tr>\n",
       "      <th>std</th>\n",
       "      <td>0.295683</td>\n",
       "    </tr>\n",
       "    <tr>\n",
       "      <th>min</th>\n",
       "      <td>0.000000</td>\n",
       "    </tr>\n",
       "    <tr>\n",
       "      <th>25%</th>\n",
       "      <td>0.008571</td>\n",
       "    </tr>\n",
       "    <tr>\n",
       "      <th>50%</th>\n",
       "      <td>0.070000</td>\n",
       "    </tr>\n",
       "    <tr>\n",
       "      <th>75%</th>\n",
       "      <td>0.191667</td>\n",
       "    </tr>\n",
       "    <tr>\n",
       "      <th>max</th>\n",
       "      <td>2.380000</td>\n",
       "    </tr>\n",
       "  </tbody>\n",
       "</table>\n",
       "</div>"
      ],
      "text/plain": [
       "             prcp\n",
       "count  366.000000\n",
       "mean     0.170757\n",
       "std      0.295683\n",
       "min      0.000000\n",
       "25%      0.008571\n",
       "50%      0.070000\n",
       "75%      0.191667\n",
       "max      2.380000"
      ]
     },
     "execution_count": 11,
     "metadata": {},
     "output_type": "execute_result"
    }
   ],
   "source": [
    "#Use Pandas to print the summary statistics for the precipitation data.\n",
    "date_prcp_df.describe()\n"
   ]
  },
  {
   "cell_type": "code",
   "execution_count": 12,
   "metadata": {
    "collapsed": true
   },
   "outputs": [],
   "source": [
    "### Station Analysis\n"
   ]
  },
  {
   "cell_type": "code",
   "execution_count": 13,
   "metadata": {},
   "outputs": [
    {
     "name": "stdout",
     "output_type": "stream",
     "text": [
      "18103\n"
     ]
    }
   ],
   "source": [
    "#Design a query to calculate the total number of stations.\n",
    "total_number_station = session.query(Measurment.station).count()\n",
    "print(total_number_station)"
   ]
  },
  {
   "cell_type": "code",
   "execution_count": 14,
   "metadata": {},
   "outputs": [
    {
     "data": {
      "text/html": [
       "<div>\n",
       "<style>\n",
       "    .dataframe thead tr:only-child th {\n",
       "        text-align: right;\n",
       "    }\n",
       "\n",
       "    .dataframe thead th {\n",
       "        text-align: left;\n",
       "    }\n",
       "\n",
       "    .dataframe tbody tr th {\n",
       "        vertical-align: top;\n",
       "    }\n",
       "</style>\n",
       "<table border=\"1\" class=\"dataframe\">\n",
       "  <thead>\n",
       "    <tr style=\"text-align: right;\">\n",
       "      <th></th>\n",
       "      <th>station</th>\n",
       "      <th>observation count</th>\n",
       "    </tr>\n",
       "  </thead>\n",
       "  <tbody>\n",
       "    <tr>\n",
       "      <th>0</th>\n",
       "      <td>USC00519281</td>\n",
       "      <td>2772</td>\n",
       "    </tr>\n",
       "    <tr>\n",
       "      <th>1</th>\n",
       "      <td>USC00513117</td>\n",
       "      <td>2696</td>\n",
       "    </tr>\n",
       "    <tr>\n",
       "      <th>2</th>\n",
       "      <td>USC00519397</td>\n",
       "      <td>2685</td>\n",
       "    </tr>\n",
       "    <tr>\n",
       "      <th>3</th>\n",
       "      <td>USC00519523</td>\n",
       "      <td>2572</td>\n",
       "    </tr>\n",
       "    <tr>\n",
       "      <th>4</th>\n",
       "      <td>USC00516128</td>\n",
       "      <td>2484</td>\n",
       "    </tr>\n",
       "    <tr>\n",
       "      <th>5</th>\n",
       "      <td>USC00514830</td>\n",
       "      <td>1937</td>\n",
       "    </tr>\n",
       "    <tr>\n",
       "      <th>6</th>\n",
       "      <td>USC00511918</td>\n",
       "      <td>1932</td>\n",
       "    </tr>\n",
       "    <tr>\n",
       "      <th>7</th>\n",
       "      <td>USC00517948</td>\n",
       "      <td>683</td>\n",
       "    </tr>\n",
       "    <tr>\n",
       "      <th>8</th>\n",
       "      <td>USC00518838</td>\n",
       "      <td>342</td>\n",
       "    </tr>\n",
       "  </tbody>\n",
       "</table>\n",
       "</div>"
      ],
      "text/plain": [
       "       station  observation count\n",
       "0  USC00519281               2772\n",
       "1  USC00513117               2696\n",
       "2  USC00519397               2685\n",
       "3  USC00519523               2572\n",
       "4  USC00516128               2484\n",
       "5  USC00514830               1937\n",
       "6  USC00511918               1932\n",
       "7  USC00517948                683\n",
       "8  USC00518838                342"
      ]
     },
     "execution_count": 14,
     "metadata": {},
     "output_type": "execute_result"
    }
   ],
   "source": [
    "#List the stations and observation counts in descending order\n",
    "list_station_observ_count = session.query(Measurment.station, \n",
    "                                 func.count(Measurment.prcp).label('qty')\n",
    "                                 ).group_by(Measurment.station\n",
    "                                           ).order_by(desc('qty'))\n",
    "\n",
    "station_count_df = pd.DataFrame(list_station_observ_count[:], columns=['station', 'observation count'])\n",
    "station_count_df\n"
   ]
  },
  {
   "cell_type": "code",
   "execution_count": 15,
   "metadata": {},
   "outputs": [
    {
     "name": "stdout",
     "output_type": "stream",
     "text": [
      "Highest number observation is for: USC00519281\n"
     ]
    }
   ],
   "source": [
    "#Design a query to find the most active stations.\n",
    "#Which station has the highest number of observations?\n",
    "most_active_station = list_station_observ_count[0][0]  \n",
    "print(\"Highest number observation is for:\" ,most_active_station)"
   ]
  },
  {
   "cell_type": "code",
   "execution_count": 16,
   "metadata": {},
   "outputs": [
    {
     "name": "stdout",
     "output_type": "stream",
     "text": [
      "352\n"
     ]
    },
    {
     "data": {
      "text/html": [
       "<div>\n",
       "<style>\n",
       "    .dataframe thead tr:only-child th {\n",
       "        text-align: right;\n",
       "    }\n",
       "\n",
       "    .dataframe thead th {\n",
       "        text-align: left;\n",
       "    }\n",
       "\n",
       "    .dataframe tbody tr th {\n",
       "        vertical-align: top;\n",
       "    }\n",
       "</style>\n",
       "<table border=\"1\" class=\"dataframe\">\n",
       "  <thead>\n",
       "    <tr style=\"text-align: right;\">\n",
       "      <th></th>\n",
       "      <th>tobs</th>\n",
       "    </tr>\n",
       "  </thead>\n",
       "  <tbody>\n",
       "    <tr>\n",
       "      <th>0</th>\n",
       "      <td>77</td>\n",
       "    </tr>\n",
       "    <tr>\n",
       "      <th>1</th>\n",
       "      <td>77</td>\n",
       "    </tr>\n",
       "    <tr>\n",
       "      <th>2</th>\n",
       "      <td>80</td>\n",
       "    </tr>\n",
       "    <tr>\n",
       "      <th>3</th>\n",
       "      <td>80</td>\n",
       "    </tr>\n",
       "    <tr>\n",
       "      <th>4</th>\n",
       "      <td>75</td>\n",
       "    </tr>\n",
       "  </tbody>\n",
       "</table>\n",
       "</div>"
      ],
      "text/plain": [
       "   tobs\n",
       "0    77\n",
       "1    77\n",
       "2    80\n",
       "3    80\n",
       "4    75"
      ]
     },
     "execution_count": 16,
     "metadata": {},
     "output_type": "execute_result"
    }
   ],
   "source": [
    "#Design a query to retrieve the last 12 months of temperature observation data (tobs).\n",
    "#Filter by the station with the highest number of observations.\n",
    "\n",
    "result = session.query(Measurment.tobs).\\\n",
    "               filter(Measurment.date.between('2016-08-23', '2017-08-23')).\\\n",
    "               filter_by(station = 'USC00519281')\n",
    "        \n",
    "print(result.count()) \n",
    "\n",
    "tobs_df = pd.DataFrame(result[:], columns=['tobs'])\n",
    "tobs_df.head()"
   ]
  },
  {
   "cell_type": "code",
   "execution_count": 17,
   "metadata": {},
   "outputs": [
    {
     "data": {
      "text/html": [
       "<div>\n",
       "<style>\n",
       "    .dataframe thead tr:only-child th {\n",
       "        text-align: right;\n",
       "    }\n",
       "\n",
       "    .dataframe thead th {\n",
       "        text-align: left;\n",
       "    }\n",
       "\n",
       "    .dataframe tbody tr th {\n",
       "        vertical-align: top;\n",
       "    }\n",
       "</style>\n",
       "<table border=\"1\" class=\"dataframe\">\n",
       "  <thead>\n",
       "    <tr style=\"text-align: right;\">\n",
       "      <th></th>\n",
       "      <th>Frequency</th>\n",
       "    </tr>\n",
       "    <tr>\n",
       "      <th>Temp_bin</th>\n",
       "      <th></th>\n",
       "    </tr>\n",
       "  </thead>\n",
       "  <tbody>\n",
       "    <tr>\n",
       "      <th>0_60</th>\n",
       "      <td>5</td>\n",
       "    </tr>\n",
       "    <tr>\n",
       "      <th>60_65</th>\n",
       "      <td>21</td>\n",
       "    </tr>\n",
       "    <tr>\n",
       "      <th>65_70</th>\n",
       "      <td>73</td>\n",
       "    </tr>\n",
       "    <tr>\n",
       "      <th>70_75</th>\n",
       "      <td>130</td>\n",
       "    </tr>\n",
       "    <tr>\n",
       "      <th>75_80</th>\n",
       "      <td>115</td>\n",
       "    </tr>\n",
       "    <tr>\n",
       "      <th>80_85</th>\n",
       "      <td>8</td>\n",
       "    </tr>\n",
       "    <tr>\n",
       "      <th>85_90</th>\n",
       "      <td>0</td>\n",
       "    </tr>\n",
       "    <tr>\n",
       "      <th>90_95</th>\n",
       "      <td>0</td>\n",
       "    </tr>\n",
       "    <tr>\n",
       "      <th>95_100</th>\n",
       "      <td>0</td>\n",
       "    </tr>\n",
       "    <tr>\n",
       "      <th>100_105</th>\n",
       "      <td>0</td>\n",
       "    </tr>\n",
       "    <tr>\n",
       "      <th>105_110</th>\n",
       "      <td>0</td>\n",
       "    </tr>\n",
       "    <tr>\n",
       "      <th>110_115</th>\n",
       "      <td>0</td>\n",
       "    </tr>\n",
       "  </tbody>\n",
       "</table>\n",
       "</div>"
      ],
      "text/plain": [
       "          Frequency\n",
       "Temp_bin           \n",
       "0_60              5\n",
       "60_65            21\n",
       "65_70            73\n",
       "70_75           130\n",
       "75_80           115\n",
       "80_85             8\n",
       "85_90             0\n",
       "90_95             0\n",
       "95_100            0\n",
       "100_105           0\n",
       "105_110           0\n",
       "110_115           0"
      ]
     },
     "execution_count": 17,
     "metadata": {},
     "output_type": "execute_result"
    }
   ],
   "source": [
    "#Plot the results as a histogram with `bins=12`.\n",
    "bins = [0, 60, 65, 70, 75, 80, 85, 90, 95, 100, 105, 110, 115]\n",
    "group_names = ['0_60', '60_65', '65_70', '70_75', '75_80', '80_85','85_90','90_95','95_100','100_105','105_110','110_115']\n",
    "\n",
    "tobs_df[\"Temp_bin\"] = pd.cut(tobs_df[\"tobs\"],bins, labels=group_names)\n",
    "bin_group = tobs_df.groupby(\"Temp_bin\")\n",
    "\n",
    "new_table = pd.DataFrame({\"Frequency\": bin_group[\"tobs\"].count()})\n",
    "new_table"
   ]
  },
  {
   "cell_type": "code",
   "execution_count": 18,
   "metadata": {},
   "outputs": [
    {
     "data": {
      "image/png": "[encoded data removed]",
      "text/plain": [
       "<matplotlib.figure.Figure at 0x227a0fb47b8>"
      ]
     },
     "metadata": {},
     "output_type": "display_data"
    }
   ],
   "source": [
    "#Plot the results as a histogram with `bins=12`.\n",
    "new_table.plot( kind='bar')\n",
    "plt.show()"
   ]
  },
  {
   "cell_type": "code",
   "execution_count": 19,
   "metadata": {
    "collapsed": true
   },
   "outputs": [],
   "source": [
    "### Temperature Analysis\n",
    "#<center><img src='images/temp_avg.png' height=\"400px\"/></center>\n"
   ]
  },
  {
   "cell_type": "code",
   "execution_count": 20,
   "metadata": {},
   "outputs": [
    {
     "name": "stdout",
     "output_type": "stream",
     "text": [
      "68 74.19642857142857 80\n"
     ]
    }
   ],
   "source": [
    "#Write a function called `calc_temps` that will accept a start date and end date in the format `%Y-%m-%d` \n",
    "#and return the minimum, average, and maximum temperatures for that range of dates.\n",
    "#Use the `calc_temps` function to calculate the min, avg, and max temperatures for your trip using the matching\n",
    "#dates from the previous year (i.e. use \"2017-01-01\" if your trip start date was \"2018-01-01\")\n",
    "\n",
    "def calc_temp(start_date, end_date):\n",
    "    min_temp = session.query(func.min(Measurment.tobs)).\\\n",
    "               filter(Measurment.date.between(start_date, end_date))[0][0]\n",
    "        \n",
    "    avg_temp = session.query(func.avg(Measurment.tobs)).\\\n",
    "               filter(Measurment.date.between(start_date, end_date))[0][0]\n",
    "        \n",
    "    max_temp = session.query(func.max(Measurment.tobs)).\\\n",
    "               filter(Measurment.date.between(start_date, end_date))[0][0]  \n",
    "        \n",
    "    return (min_temp, avg_temp, max_temp)\n",
    " \n",
    "\n",
    "Start_date = \"2018-03-21\"\n",
    "End_date = \"2018-03-30\"\n",
    "\n",
    "min_temp, avg_temp, max_temp = calc_temp(\"2017-03-21\", \"2017-03-30\")\n",
    "\n",
    "print(min_temp, avg_temp, max_temp)\n"
   ]
  },
  {
   "cell_type": "code",
   "execution_count": 21,
   "metadata": {},
   "outputs": [
    {
     "data": {
      "image/png": "[encoded data removed]",
      "text/plain": [
       "<matplotlib.figure.Figure at 0x227a10bd240>"
      ]
     },
     "metadata": {},
     "output_type": "display_data"
    }
   ],
   "source": [
    "#Plot the min, avg, and max temperature from your previous query as a bar chart.\n",
    "#Use the average temperature as the bar height.\n",
    "#Use the peak-to-peak (tmax-tmin) value as the y error bar (yerr).\n",
    "\n",
    "#fig, ax = plt.subplots()\n",
    "fig = plt.figure(figsize=(3, 8))\n",
    "ax = fig.add_subplot(111)\n",
    "ax.bar(1, avg_temp, color= 'pink')  #'beige')\n",
    "ax.errorbar(1, avg_temp, (max_temp-min_temp), color='black')  #, capsize=5, capthick=2\n",
    "plt.title(\"Trip avarage tempature\")\n",
    "plt.ylabel(\"temp (F)\")\n",
    "plt.show()"
   ]
  },
  {
   "cell_type": "code",
   "execution_count": null,
   "metadata": {
    "collapsed": true
   },
   "outputs": [],
   "source": [
    "### Optional Recommended Analysis\n"
   ]
  },
  {
   "cell_type": "code",
   "execution_count": 59,
   "metadata": {},
   "outputs": [
    {
     "name": "stdout",
     "output_type": "stream",
     "text": [
      "('USC00516128', 147.81000000000006)\n",
      "('USC00519281', 70.03000000000003)\n",
      "('USC00513117', 48.510000000000026)\n",
      "('USC00519523', 38.01)\n",
      "('USC00514830', 33.239999999999995)\n",
      "('USC00519397', 16.089999999999986)\n",
      "('USC00517948', 4.59)\n"
     ]
    }
   ],
   "source": [
    "#Calcualte the rainfall per weather station using the previous year's matching dates.\n",
    "\n",
    "number_station = session.query(Measurment.station, func.sum(Measurment.prcp).label('qty')).\\\n",
    "                        filter(Measurment.date.between('2016-08-23', '2017-08-23')).\\\n",
    "                        group_by(Measurment.station).order_by(desc('qty'))\n",
    "\n",
    "for station in number_station:\n",
    "    print(station)"
   ]
  },
  {
   "cell_type": "code",
   "execution_count": 22,
   "metadata": {},
   "outputs": [
    {
     "data": {
      "text/html": [
       "<div>\n",
       "<style>\n",
       "    .dataframe thead tr:only-child th {\n",
       "        text-align: right;\n",
       "    }\n",
       "\n",
       "    .dataframe thead th {\n",
       "        text-align: left;\n",
       "    }\n",
       "\n",
       "    .dataframe tbody tr th {\n",
       "        vertical-align: top;\n",
       "    }\n",
       "</style>\n",
       "<table border=\"1\" class=\"dataframe\">\n",
       "  <thead>\n",
       "    <tr style=\"text-align: right;\">\n",
       "      <th></th>\n",
       "      <th>Min_Temp</th>\n",
       "      <th>Avg_Temp</th>\n",
       "      <th>Max_Temp</th>\n",
       "      <th>Daily_Normal</th>\n",
       "    </tr>\n",
       "    <tr>\n",
       "      <th>date</th>\n",
       "      <th></th>\n",
       "      <th></th>\n",
       "      <th></th>\n",
       "      <th></th>\n",
       "    </tr>\n",
       "  </thead>\n",
       "  <tbody>\n",
       "    <tr>\n",
       "      <th>2016-08-23</th>\n",
       "      <td>74</td>\n",
       "      <td>78.000000</td>\n",
       "      <td>81</td>\n",
       "      <td>77.666667</td>\n",
       "    </tr>\n",
       "    <tr>\n",
       "      <th>2016-08-24</th>\n",
       "      <td>74</td>\n",
       "      <td>77.500000</td>\n",
       "      <td>80</td>\n",
       "      <td>77.166667</td>\n",
       "    </tr>\n",
       "    <tr>\n",
       "      <th>2016-08-25</th>\n",
       "      <td>77</td>\n",
       "      <td>79.428571</td>\n",
       "      <td>81</td>\n",
       "      <td>79.142857</td>\n",
       "    </tr>\n",
       "    <tr>\n",
       "      <th>2016-08-26</th>\n",
       "      <td>78</td>\n",
       "      <td>80.500000</td>\n",
       "      <td>84</td>\n",
       "      <td>80.833333</td>\n",
       "    </tr>\n",
       "    <tr>\n",
       "      <th>2016-08-27</th>\n",
       "      <td>73</td>\n",
       "      <td>77.400000</td>\n",
       "      <td>81</td>\n",
       "      <td>77.133333</td>\n",
       "    </tr>\n",
       "  </tbody>\n",
       "</table>\n",
       "</div>"
      ],
      "text/plain": [
       "            Min_Temp   Avg_Temp  Max_Temp  Daily_Normal\n",
       "date                                                   \n",
       "2016-08-23        74  78.000000        81     77.666667\n",
       "2016-08-24        74  77.500000        80     77.166667\n",
       "2016-08-25        77  79.428571        81     79.142857\n",
       "2016-08-26        78  80.500000        84     80.833333\n",
       "2016-08-27        73  77.400000        81     77.133333"
      ]
     },
     "execution_count": 22,
     "metadata": {},
     "output_type": "execute_result"
    }
   ],
   "source": [
    "#Calculate the daily normals. Normals are the averages for min, avg, and max temperatures.\n",
    "\n",
    "       \n",
    "date_temp_df = pd.DataFrame(result[:], columns=['date', 'Min_Temp', 'Avg_Temp', 'Max_Temp'])\n",
    "date_temp_df.set_index('date', inplace=True, )\n",
    "date_temp_df[\"Daily_Normal\"] = [(date_temp_df['Min_Temp'][i] + date_temp_df['Avg_Temp'][i] + \n",
    "                                date_temp_df['Max_Temp'][i]) / 3  for i in range(len(date_temp_df))]\n",
    "date_temp_df.head()\n"
   ]
  },
  {
   "cell_type": "code",
   "execution_count": 100,
   "metadata": {},
   "outputs": [],
   "source": [
    "#Create a function called `daily_normals` that will calculate the daily normals for a specific date. \n",
    "#This date string will be in the format `%m-%d`. Be sure to use all historic tobs that match that date string.\n",
    "\n",
    "def daily_normals(chosen_date):\n",
    "    \n",
    "    record = str(chosen_date).split('-')\n",
    "    chosen_month = record[0]\n",
    "    chosen_day = record[1]\n",
    "    \n",
    "    results = session.query(func.min(Measurment.tobs), func.avg(Measurment.tobs), func.max(Measurment.tobs)).\\\n",
    "               filter((extract('month', Measurment.date)==chosen_month) and (extract('day', Measurment.date)==chosen_day)).\\\n",
    "               group_by(Measurment.station).all()\n",
    "        \n",
    "    date_daily_normal_df = pd.DataFrame(results[:], columns=['Min_Temp', 'Avg_Temp', 'Max_Temp'])\n",
    "         \n",
    "    T_min = date_daily_normal_df[\"Min_Temp\"].mean()\n",
    "    T_avg = date_daily_normal_df[\"Avg_Temp\"].mean()\n",
    "    T_max = date_daily_normal_df[\"Max_Temp\"].mean()\n",
    "    \n",
    "    \n",
    "    return(T_min, T_avg, T_max)  \n",
    "\n"
   ]
  },
  {
   "cell_type": "code",
   "execution_count": 106,
   "metadata": {},
   "outputs": [
    {
     "data": {
      "text/html": [
       "<div>\n",
       "<style>\n",
       "    .dataframe thead tr:only-child th {\n",
       "        text-align: right;\n",
       "    }\n",
       "\n",
       "    .dataframe thead th {\n",
       "        text-align: left;\n",
       "    }\n",
       "\n",
       "    .dataframe tbody tr th {\n",
       "        vertical-align: top;\n",
       "    }\n",
       "</style>\n",
       "<table border=\"1\" class=\"dataframe\">\n",
       "  <thead>\n",
       "    <tr style=\"text-align: right;\">\n",
       "      <th></th>\n",
       "      <th>T_Avg</th>\n",
       "      <th>T_Max</th>\n",
       "      <th>T_Min</th>\n",
       "    </tr>\n",
       "    <tr>\n",
       "      <th>Date</th>\n",
       "      <th></th>\n",
       "      <th></th>\n",
       "      <th></th>\n",
       "    </tr>\n",
       "  </thead>\n",
       "  <tbody>\n",
       "    <tr>\n",
       "      <th>1-2</th>\n",
       "      <td>68.881903</td>\n",
       "      <td>78.333333</td>\n",
       "      <td>57.333333</td>\n",
       "    </tr>\n",
       "    <tr>\n",
       "      <th>2-17</th>\n",
       "      <td>69.579099</td>\n",
       "      <td>79.111111</td>\n",
       "      <td>59.222222</td>\n",
       "    </tr>\n",
       "    <tr>\n",
       "      <th>3-23</th>\n",
       "      <td>69.946996</td>\n",
       "      <td>78.888889</td>\n",
       "      <td>60.000000</td>\n",
       "    </tr>\n",
       "    <tr>\n",
       "      <th>7-04</th>\n",
       "      <td>75.909180</td>\n",
       "      <td>82.666667</td>\n",
       "      <td>69.222222</td>\n",
       "    </tr>\n",
       "    <tr>\n",
       "      <th>10-14</th>\n",
       "      <td>75.347900</td>\n",
       "      <td>82.777778</td>\n",
       "      <td>67.777778</td>\n",
       "    </tr>\n",
       "    <tr>\n",
       "      <th>5-24</th>\n",
       "      <td>73.753177</td>\n",
       "      <td>81.111111</td>\n",
       "      <td>66.222222</td>\n",
       "    </tr>\n",
       "    <tr>\n",
       "      <th>9-10</th>\n",
       "      <td>76.171867</td>\n",
       "      <td>84.000000</td>\n",
       "      <td>69.222222</td>\n",
       "    </tr>\n",
       "  </tbody>\n",
       "</table>\n",
       "</div>"
      ],
      "text/plain": [
       "           T_Avg      T_Max      T_Min\n",
       "Date                                  \n",
       "1-2    68.881903  78.333333  57.333333\n",
       "2-17   69.579099  79.111111  59.222222\n",
       "3-23   69.946996  78.888889  60.000000\n",
       "7-04   75.909180  82.666667  69.222222\n",
       "10-14  75.347900  82.777778  67.777778\n",
       "5-24   73.753177  81.111111  66.222222\n",
       "9-10   76.171867  84.000000  69.222222"
      ]
     },
     "execution_count": 106,
     "metadata": {},
     "output_type": "execute_result"
    }
   ],
   "source": [
    "#Create a list of dates for your trip in the format `%m-%d`. Use the `daily_normals` function to calculate the \n",
    "#normals for each date string and append the results to a list.\n",
    "#Load the list of daily normals into a Pandas DataFrame and set the index equal to the date.\n",
    "\n",
    "chosen_date_tmin_list = []\n",
    "chosen_date_tavg_list = []\n",
    "chosen_date_tmax_list = []\n",
    "\n",
    "chosen_date_list = ['1-2','2-17','3-23', '7-04', '10-14', '5-24', '9-10']\n",
    "\n",
    "for chosen_date in chosen_date_list:\n",
    "    \n",
    "    min_temp, avg_temp, max_temp = daily_normals(chosen_date)\n",
    "    \n",
    "    chosen_date_tmin_list.append(min_temp)\n",
    "    chosen_date_tavg_list.append(avg_temp)\n",
    "    chosen_date_tmax_list.append(max_temp)\n",
    "next\n",
    "info_data = {\"Date\": chosen_date_list, \"T_Min\": chosen_date_tmin_list, \"T_Avg\": chosen_date_tavg_list, \"T_Max\": chosen_date_tmax_list}\n",
    "info_df = pd.DataFrame(info_data)\n",
    "info_df.set_index('Date', inplace=True, )\n",
    "info_df\n",
    "\n"
   ]
  },
  {
   "cell_type": "code",
   "execution_count": 107,
   "metadata": {},
   "outputs": [
    {
     "data": {
      "image/png": "[encoded data removed]",
      "text/plain": [
       "<matplotlib.figure.Figure at 0x227a1a8fac8>"
      ]
     },
     "metadata": {},
     "output_type": "display_data"
    }
   ],
   "source": [
    "#Use Pandas to plot an area plot (`stacked=False`) for the daily normals.\n",
    "info_df.plot(kind='area', stacked=False, alpha=0.5, colormap='Spectral')\n",
    "plt.show()\n"
   ]
  },
  {
   "cell_type": "code",
   "execution_count": null,
   "metadata": {
    "collapsed": true
   },
   "outputs": [],
   "source": []
  }
 ],
 "metadata": {
  "kernelspec": {
   "display_name": "Python 3",
   "language": "python",
   "name": "python3"
  },
  "language_info": {
   "codemirror_mode": {
    "name": "ipython",
    "version": 3
   },
   "file_extension": ".py",
   "mimetype": "text/x-python",
   "name": "python",
   "nbconvert_exporter": "python",
   "pygments_lexer": "ipython3",
   "version": "3.6.3"
  }
 },
 "nbformat": 4,
 "nbformat_minor": 2
}
